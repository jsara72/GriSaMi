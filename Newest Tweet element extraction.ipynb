{
 "cells": [
  {
   "cell_type": "code",
   "execution_count": 8,
   "metadata": {
    "collapsed": false
   },
   "outputs": [],
   "source": [
    "%matplotlib inline\n",
    "import matplotlib.pyplot as plt\n",
    "import matplotlib.axes as ax\n",
    "import json\n",
    "import pandas as pd\n",
    "from pandas.io.json import json_normalize\n",
    "# author: jsara72\n",
    "from nltk import word_tokenize, pos_tag\n",
    "from nltk.corpus import stopwords\n",
    "import random\n",
    "import nltk\n",
    "from nltk.corpus import movie_reviews\n",
    "from nltk.corpus import stopwords\n",
    "from nltk import word_tokenize\n",
    "import pandas as pd\n",
    "import re\n",
    "from nltk.classify.scikitlearn import SklearnClassifier\n",
    "from sklearn.naive_bayes import MultinomialNB,BernoulliNB\n",
    "from sklearn.linear_model import LogisticRegression,SGDClassifier\n",
    "from sklearn.svm import SVC, LinearSVC, NuSVC\n",
    "import numpy as np"
   ]
  },
  {
   "cell_type": "code",
   "execution_count": 9,
   "metadata": {
    "collapsed": false
   },
   "outputs": [],
   "source": [
    "def griffin():\n",
    "    \n",
    "    order = ['id','time','text','language','retweeted','user_id']\n",
    "    \n",
    "    idt = re.compile(\"id:.*?created_at:\")\n",
    "    idt_temp = list(map(lambda x: re.sub(r'[^\\x00-\\x7F]+',' ', x[3:-13]), idt.findall(f.read())))\n",
    "    \n",
    "    f.seek(0)\n",
    "    time = re.compile(\"created_at:.*?text:\")\n",
    "    time_temp = list(map(lambda x: re.sub(r'[^\\x00-\\x7F]+',' ', x[11:-7]), time.findall(f.read())))\n",
    "    \n",
    "    f.seek(0)\n",
    "\n",
    "    text = re.compile(\"text:.*?lang:\",re.DOTALL)\n",
    "    text_temp = list(map(lambda x: re.sub(r'[^\\x00-\\x7F]+',' ', x[5:-7]), text.findall(f.read())))\n",
    "    \n",
    "    \n",
    "    f.seek(0)\n",
    "    length = re.compile(\"lang:.*?source:\")\n",
    "    length_temp = list(map(lambda x: re.sub(r'[^\\x00-\\x7F]+',' ', x[5:-9]), length.findall(f.read())))\n",
    "    \n",
    "    f.seek(0)\n",
    "    retweeted = re.compile(\"retweeted:.*?retweet_count:\")\n",
    "    retweeted_temp = list(map(lambda x: re.sub(r'[^\\x00-\\x7F]+',' ', x[10:-16]), retweeted.findall(f.read())))\n",
    "    \n",
    "    f.seek(0)\n",
    "    retweet_counts = re.compile(\"retweet_counts:.*\")\n",
    "    retweet_counts_temp = list(map(lambda x: re.sub(r'[^\\x00-\\x7F]+',' ', x[14:-1]), retweet_counts.findall(f.read())))\n",
    "    \n",
    "    f.seek(0)\n",
    "    user_id_raw = re.findall(\",[\\w\\d\\-]+,\\d+,['\\+\\w/\\.\\-\\s\\(\\)&]+,['\\w\\s\\^\\$\\*\\+\\?\\{\\}\\[\\]\\\\\\|\\(\\)\\.\\-@:%\\+~#\\?&/=!]+,-?[\\d\\w]+,\\w+], entities:\", f.read())\n",
    "    user_id = [re.findall(\",.*?,\",x)[0] for x in user_id_raw]\n",
    "    # just for test\n",
    "    '''f.seek(0)\n",
    "\n",
    "    user_id_greedy = re.findall(\".*?entities:\", f.read())\n",
    "    for u_g in user_id_greedy:\n",
    "        matched = False\n",
    "        for u_id in user_id:\n",
    "            if u_id in u_g:\n",
    "                matched = True\n",
    "        if not matched:\n",
    "            print(u_g)\n",
    "    '''# end\n",
    "    user_id_temp = list(map(lambda x: re.sub(r'[^\\x00-\\x7F]+',' ', x[1:-1]), user_id))\n",
    "   \n",
    "    print(len(idt_temp),len(time_temp),len(text_temp),len(length_temp),len(retweeted_temp),len(user_id_temp))\n",
    "    #print(user_id_temp)\n",
    "    \n",
    "    df = pd.DataFrame({order[0]: idt_temp,\n",
    "                        order[1]: time_temp,\n",
    "                        order[2]: text_temp,\n",
    "                        order[3]: length_temp,\n",
    "                        order[4]: retweeted_temp,\n",
    "                        order[5]: user_id_temp})\n",
    "    return df"
   ]
  },
  {
   "cell_type": "code",
   "execution_count": null,
   "metadata": {
    "collapsed": true
   },
   "outputs": [],
   "source": []
  },
  {
   "cell_type": "code",
   "execution_count": 10,
   "metadata": {
    "collapsed": false
   },
   "outputs": [],
   "source": [
    "f = open(\"part-00000\") # 36725 tweets in this file"
   ]
  },
  {
   "cell_type": "code",
   "execution_count": 11,
   "metadata": {
    "collapsed": false,
    "scrolled": false
   },
   "outputs": [
    {
     "name": "stdout",
     "output_type": "stream",
     "text": [
      "36725 36725 36725 36725 36725 36725\n"
     ]
    }
   ],
   "source": [
    "df0 = griffin()"
   ]
  },
  {
   "cell_type": "code",
   "execution_count": 12,
   "metadata": {
    "collapsed": false
   },
   "outputs": [
    {
     "data": {
      "text/html": [
       "<div>\n",
       "<table border=\"1\" class=\"dataframe\">\n",
       "  <thead>\n",
       "    <tr style=\"text-align: right;\">\n",
       "      <th></th>\n",
       "      <th>id</th>\n",
       "      <th>language</th>\n",
       "      <th>retweeted</th>\n",
       "      <th>text</th>\n",
       "      <th>time</th>\n",
       "      <th>user_id</th>\n",
       "    </tr>\n",
       "  </thead>\n",
       "  <tbody>\n",
       "    <tr>\n",
       "      <th>0</th>\n",
       "      <td>822707826460073985</td>\n",
       "      <td>en</td>\n",
       "      <td>false</td>\n",
       "      <td>A guy who is so excited to draw a uterus on a ...</td>\n",
       "      <td>Sat Jan 21 07:30:05 +0000 2017</td>\n",
       "      <td>emmakahen</td>\n",
       "    </tr>\n",
       "    <tr>\n",
       "      <th>1</th>\n",
       "      <td>822707847440035840</td>\n",
       "      <td>en</td>\n",
       "      <td>false</td>\n",
       "      <td>@womensmarchlon Sorry I can't be there today. ...</td>\n",
       "      <td>Sat Jan 21 07:30:10 +0000 2017</td>\n",
       "      <td>f4rheen</td>\n",
       "    </tr>\n",
       "    <tr>\n",
       "      <th>2</th>\n",
       "      <td>822707893581578240</td>\n",
       "      <td>en</td>\n",
       "      <td>false</td>\n",
       "      <td>Worldwide Womens March kicks off in New Zea...</td>\n",
       "      <td>Sat Jan 21 07:30:21 +0000 2017</td>\n",
       "      <td>blackmoonlili</td>\n",
       "    </tr>\n",
       "    <tr>\n",
       "      <th>3</th>\n",
       "      <td>822707927140052992</td>\n",
       "      <td>ja</td>\n",
       "      <td>false</td>\n",
       "      <td>RT @channel__3:  2000 #WomensMarch \\nhttps://t...</td>\n",
       "      <td>Sat Jan 21 07:30:29 +0000 2017</td>\n",
       "      <td>Zero_B_Eventail</td>\n",
       "    </tr>\n",
       "    <tr>\n",
       "      <th>4</th>\n",
       "      <td>822707943938420736</td>\n",
       "      <td>en</td>\n",
       "      <td>false</td>\n",
       "      <td>RT @politicalmiller: While Trump's #Inaugurati...</td>\n",
       "      <td>Sat Jan 21 07:30:33 +0000 2017</td>\n",
       "      <td>Amplitude350Lee</td>\n",
       "    </tr>\n",
       "  </tbody>\n",
       "</table>\n",
       "</div>"
      ],
      "text/plain": [
       "                   id language retweeted  \\\n",
       "0  822707826460073985       en     false   \n",
       "1  822707847440035840       en     false   \n",
       "2  822707893581578240       en     false   \n",
       "3  822707927140052992       ja     false   \n",
       "4  822707943938420736       en     false   \n",
       "\n",
       "                                                text  \\\n",
       "0  A guy who is so excited to draw a uterus on a ...   \n",
       "1  @womensmarchlon Sorry I can't be there today. ...   \n",
       "2     Worldwide Womens March kicks off in New Zea...   \n",
       "3  RT @channel__3:  2000 #WomensMarch \\nhttps://t...   \n",
       "4  RT @politicalmiller: While Trump's #Inaugurati...   \n",
       "\n",
       "                             time          user_id  \n",
       "0  Sat Jan 21 07:30:05 +0000 2017        emmakahen  \n",
       "1  Sat Jan 21 07:30:10 +0000 2017          f4rheen  \n",
       "2  Sat Jan 21 07:30:21 +0000 2017    blackmoonlili  \n",
       "3  Sat Jan 21 07:30:29 +0000 2017  Zero_B_Eventail  \n",
       "4  Sat Jan 21 07:30:33 +0000 2017  Amplitude350Lee  "
      ]
     },
     "execution_count": 12,
     "metadata": {},
     "output_type": "execute_result"
    }
   ],
   "source": [
    "df0.head()"
   ]
  },
  {
   "cell_type": "code",
   "execution_count": 9,
   "metadata": {
    "collapsed": false
   },
   "outputs": [],
   "source": [
    "#open file with the rest of our tweets\n",
    "#f = open(\"part-00000\")"
   ]
  },
  {
   "cell_type": "code",
   "execution_count": 6,
   "metadata": {
    "collapsed": false
   },
   "outputs": [],
   "source": [
    "#add them to our dataset\n",
    "#df_secondhalf = griffin()\n",
    "#df_tot = pd.concat([df_0, df_secondhalf])"
   ]
  },
  {
   "cell_type": "code",
   "execution_count": 14,
   "metadata": {
    "collapsed": false
   },
   "outputs": [],
   "source": [
    "d = df0.duplicated(['id'])\n",
    "df0['duplicate_id'] = d\n",
    "#appends a new column that tells us if this tweet is a repeat\n",
    "# we need to filter these tweets out!\n",
    "df = df0.loc[lambda df0: df0['duplicate_id'] == 0]\n",
    "#new dataframe df_filtered with repeat tweets filtered out (this keeps first version but not repeated version)"
   ]
  },
  {
   "cell_type": "code",
   "execution_count": 15,
   "metadata": {
    "collapsed": false
   },
   "outputs": [
    {
     "name": "stderr",
     "output_type": "stream",
     "text": [
      "/Users/Griffin/anaconda/lib/python3.6/site-packages/ipykernel/__main__.py:2: SettingWithCopyWarning: \n",
      "A value is trying to be set on a copy of a slice from a DataFrame.\n",
      "Try using .loc[row_indexer,col_indexer] = value instead\n",
      "\n",
      "See the caveats in the documentation: http://pandas.pydata.org/pandas-docs/stable/indexing.html#indexing-view-versus-copy\n",
      "  from ipykernel import kernelapp as app\n"
     ]
    }
   ],
   "source": [
    "dd = df.duplicated(['user_id'])\n",
    "df['duplicate_user'] = dd\n",
    "#appends a new column that tells us if this tweet is by a new user\n",
    "# with no other tweets in our dataset"
   ]
  },
  {
   "cell_type": "code",
   "execution_count": 16,
   "metadata": {
    "collapsed": false
   },
   "outputs": [
    {
     "data": {
      "text/html": [
       "<div>\n",
       "<table border=\"1\" class=\"dataframe\">\n",
       "  <thead>\n",
       "    <tr style=\"text-align: right;\">\n",
       "      <th></th>\n",
       "      <th>id</th>\n",
       "      <th>language</th>\n",
       "      <th>retweeted</th>\n",
       "      <th>text</th>\n",
       "      <th>time</th>\n",
       "      <th>user_id</th>\n",
       "      <th>duplicate_id</th>\n",
       "      <th>duplicate_user</th>\n",
       "    </tr>\n",
       "  </thead>\n",
       "  <tbody>\n",
       "    <tr>\n",
       "      <th>0</th>\n",
       "      <td>822707826460073985</td>\n",
       "      <td>en</td>\n",
       "      <td>false</td>\n",
       "      <td>A guy who is so excited to draw a uterus on a ...</td>\n",
       "      <td>Sat Jan 21 07:30:05 +0000 2017</td>\n",
       "      <td>emmakahen</td>\n",
       "      <td>False</td>\n",
       "      <td>False</td>\n",
       "    </tr>\n",
       "    <tr>\n",
       "      <th>1</th>\n",
       "      <td>822707847440035840</td>\n",
       "      <td>en</td>\n",
       "      <td>false</td>\n",
       "      <td>@womensmarchlon Sorry I can't be there today. ...</td>\n",
       "      <td>Sat Jan 21 07:30:10 +0000 2017</td>\n",
       "      <td>f4rheen</td>\n",
       "      <td>False</td>\n",
       "      <td>False</td>\n",
       "    </tr>\n",
       "    <tr>\n",
       "      <th>2</th>\n",
       "      <td>822707893581578240</td>\n",
       "      <td>en</td>\n",
       "      <td>false</td>\n",
       "      <td>Worldwide Womens March kicks off in New Zea...</td>\n",
       "      <td>Sat Jan 21 07:30:21 +0000 2017</td>\n",
       "      <td>blackmoonlili</td>\n",
       "      <td>False</td>\n",
       "      <td>False</td>\n",
       "    </tr>\n",
       "    <tr>\n",
       "      <th>3</th>\n",
       "      <td>822707927140052992</td>\n",
       "      <td>ja</td>\n",
       "      <td>false</td>\n",
       "      <td>RT @channel__3:  2000 #WomensMarch \\nhttps://t...</td>\n",
       "      <td>Sat Jan 21 07:30:29 +0000 2017</td>\n",
       "      <td>Zero_B_Eventail</td>\n",
       "      <td>False</td>\n",
       "      <td>False</td>\n",
       "    </tr>\n",
       "    <tr>\n",
       "      <th>4</th>\n",
       "      <td>822707943938420736</td>\n",
       "      <td>en</td>\n",
       "      <td>false</td>\n",
       "      <td>RT @politicalmiller: While Trump's #Inaugurati...</td>\n",
       "      <td>Sat Jan 21 07:30:33 +0000 2017</td>\n",
       "      <td>Amplitude350Lee</td>\n",
       "      <td>False</td>\n",
       "      <td>False</td>\n",
       "    </tr>\n",
       "  </tbody>\n",
       "</table>\n",
       "</div>"
      ],
      "text/plain": [
       "                   id language retweeted  \\\n",
       "0  822707826460073985       en     false   \n",
       "1  822707847440035840       en     false   \n",
       "2  822707893581578240       en     false   \n",
       "3  822707927140052992       ja     false   \n",
       "4  822707943938420736       en     false   \n",
       "\n",
       "                                                text  \\\n",
       "0  A guy who is so excited to draw a uterus on a ...   \n",
       "1  @womensmarchlon Sorry I can't be there today. ...   \n",
       "2     Worldwide Womens March kicks off in New Zea...   \n",
       "3  RT @channel__3:  2000 #WomensMarch \\nhttps://t...   \n",
       "4  RT @politicalmiller: While Trump's #Inaugurati...   \n",
       "\n",
       "                             time          user_id duplicate_id duplicate_user  \n",
       "0  Sat Jan 21 07:30:05 +0000 2017        emmakahen        False          False  \n",
       "1  Sat Jan 21 07:30:10 +0000 2017          f4rheen        False          False  \n",
       "2  Sat Jan 21 07:30:21 +0000 2017    blackmoonlili        False          False  \n",
       "3  Sat Jan 21 07:30:29 +0000 2017  Zero_B_Eventail        False          False  \n",
       "4  Sat Jan 21 07:30:33 +0000 2017  Amplitude350Lee        False          False  "
      ]
     },
     "execution_count": 16,
     "metadata": {},
     "output_type": "execute_result"
    }
   ],
   "source": [
    "df.head()"
   ]
  },
  {
   "cell_type": "code",
   "execution_count": 17,
   "metadata": {
    "collapsed": false
   },
   "outputs": [],
   "source": [
    "df2 = df.loc[lambda df: df['duplicate_user'] == 0]\n",
    "#new dataframe with only tweets by users who haven't tweeted yet"
   ]
  },
  {
   "cell_type": "code",
   "execution_count": 18,
   "metadata": {
    "collapsed": false
   },
   "outputs": [],
   "source": [
    "df3 = df.loc[lambda df: df['duplicate_user'] == 1]\n",
    "#new dataframe with only tweets from users who tweeted before"
   ]
  },
  {
   "cell_type": "code",
   "execution_count": 19,
   "metadata": {
    "collapsed": false
   },
   "outputs": [
    {
     "data": {
      "text/html": [
       "<div>\n",
       "<table border=\"1\" class=\"dataframe\">\n",
       "  <thead>\n",
       "    <tr style=\"text-align: right;\">\n",
       "      <th></th>\n",
       "      <th>id</th>\n",
       "      <th>language</th>\n",
       "      <th>retweeted</th>\n",
       "      <th>text</th>\n",
       "      <th>time</th>\n",
       "      <th>user_id</th>\n",
       "      <th>duplicate_id</th>\n",
       "      <th>duplicate_user</th>\n",
       "    </tr>\n",
       "  </thead>\n",
       "  <tbody>\n",
       "    <tr>\n",
       "      <th>13</th>\n",
       "      <td>822708644378603520</td>\n",
       "      <td>en</td>\n",
       "      <td>false</td>\n",
       "      <td>RT @PattyArquette: Can't make it to DC for the...</td>\n",
       "      <td>Sat Jan 21 07:33:20 +0000 2017</td>\n",
       "      <td>alej_cx</td>\n",
       "      <td>False</td>\n",
       "      <td>False</td>\n",
       "    </tr>\n",
       "    <tr>\n",
       "      <th>35</th>\n",
       "      <td>822709822978015233</td>\n",
       "      <td>en</td>\n",
       "      <td>false</td>\n",
       "      <td>RT @yalitzamarin: WOMANS MARCH IN LA Jan 21! 9...</td>\n",
       "      <td>Sat Jan 21 07:38:01 +0000 2017</td>\n",
       "      <td>alej_cx</td>\n",
       "      <td>False</td>\n",
       "      <td>True</td>\n",
       "    </tr>\n",
       "  </tbody>\n",
       "</table>\n",
       "</div>"
      ],
      "text/plain": [
       "                    id language retweeted  \\\n",
       "13  822708644378603520       en     false   \n",
       "35  822709822978015233       en     false   \n",
       "\n",
       "                                                 text  \\\n",
       "13  RT @PattyArquette: Can't make it to DC for the...   \n",
       "35  RT @yalitzamarin: WOMANS MARCH IN LA Jan 21! 9...   \n",
       "\n",
       "                              time  user_id duplicate_id duplicate_user  \n",
       "13  Sat Jan 21 07:33:20 +0000 2017  alej_cx        False          False  \n",
       "35  Sat Jan 21 07:38:01 +0000 2017  alej_cx        False           True  "
      ]
     },
     "execution_count": 19,
     "metadata": {},
     "output_type": "execute_result"
    }
   ],
   "source": [
    "df.loc[lambda df: df['user_id'] == 'alej_cx']"
   ]
  },
  {
   "cell_type": "code",
   "execution_count": 20,
   "metadata": {
    "collapsed": false
   },
   "outputs": [
    {
     "name": "stdout",
     "output_type": "stream",
     "text": [
      "# tweets...\n",
      "36649\n",
      "# of first tweets\n",
      "33852\n",
      "# of tweets by same users\n",
      "2797\n"
     ]
    }
   ],
   "source": [
    "print('# tweets...') \n",
    "print(len(df))\n",
    "print('# of first tweets')\n",
    "print(len(df2))\n",
    "print('# of tweets by same users')\n",
    "print(len(df3))"
   ]
  },
  {
   "cell_type": "code",
   "execution_count": 31,
   "metadata": {
    "collapsed": false
   },
   "outputs": [
    {
     "name": "stderr",
     "output_type": "stream",
     "text": [
      "/Users/Griffin/anaconda/lib/python3.6/site-packages/ipykernel/__main__.py:4: SettingWithCopyWarning: \n",
      "A value is trying to be set on a copy of a slice from a DataFrame.\n",
      "Try using .loc[row_indexer,col_indexer] = value instead\n",
      "\n",
      "See the caveats in the documentation: http://pandas.pydata.org/pandas-docs/stable/indexing.html#indexing-view-versus-copy\n",
      "/Users/Griffin/anaconda/lib/python3.6/site-packages/ipykernel/__main__.py:7: SettingWithCopyWarning: \n",
      "A value is trying to be set on a copy of a slice from a DataFrame.\n",
      "Try using .loc[row_indexer,col_indexer] = value instead\n",
      "\n",
      "See the caveats in the documentation: http://pandas.pydata.org/pandas-docs/stable/indexing.html#indexing-view-versus-copy\n",
      "/Users/Griffin/anaconda/lib/python3.6/site-packages/ipykernel/__main__.py:10: SettingWithCopyWarning: \n",
      "A value is trying to be set on a copy of a slice from a DataFrame.\n",
      "Try using .loc[row_indexer,col_indexer] = value instead\n",
      "\n",
      "See the caveats in the documentation: http://pandas.pydata.org/pandas-docs/stable/indexing.html#indexing-view-versus-copy\n"
     ]
    }
   ],
   "source": [
    "#appending a datetime form of the 'time' column to our dataframes (this is easier to work with in pandas)\n",
    "aaa = df['time']\n",
    "times_df = pd.to_datetime(aaa)\n",
    "df['datetime_times'] = times_df\n",
    "bbb = df2['time']\n",
    "times_df2 = pd.to_datetime(bbb)\n",
    "df2['datetime_times'] = times_df2\n",
    "ccc = df3['time']\n",
    "times_df3 = pd.to_datetime(ccc)\n",
    "df3['datetime_times'] = times_df3"
   ]
  },
  {
   "cell_type": "code",
   "execution_count": null,
   "metadata": {
    "collapsed": false
   },
   "outputs": [],
   "source": []
  },
  {
   "cell_type": "code",
   "execution_count": 32,
   "metadata": {
    "collapsed": false
   },
   "outputs": [],
   "source": [
    "# Putting tweets into 10 minute bins so we can make a histogram of tweets vs. time\n",
    "# change '10T' to 'xT' for x-minute bin size\n",
    "times_df = df['datetime_times']\n",
    "series = pd.Series(1, index=times_df)\n",
    "times_df_10minbins = series.resample('10T').sum()\n",
    "\n",
    "times_df2 = df2['datetime_times']\n",
    "series2 = pd.Series(1, index=times_df2)\n",
    "times_df2_10minbins = series2.resample('10T').sum()\n",
    "\n",
    "times_df3 = df3['datetime_times']\n",
    "series3 = pd.Series(1, index=times_df3)\n",
    "times_df3_10minbins = series3.resample('10T').sum()"
   ]
  },
  {
   "cell_type": "code",
   "execution_count": 33,
   "metadata": {
    "collapsed": false
   },
   "outputs": [
    {
     "data": {
      "image/png": "[encoded data removed]",
      "text/plain": [
       "<matplotlib.figure.Figure at 0x125781a90>"
      ]
     },
     "metadata": {},
     "output_type": "display_data"
    }
   ],
   "source": [
    "#plotting # all tweets vs time (p1, blue) and # tweets from new users\n",
    "# vs time (p2, red)\n",
    "p1 = plt.plot(times_df_10minbins)\n",
    "p2 = plt.plot(times_df2_10minbins, 'r')"
   ]
  },
  {
   "cell_type": "code",
   "execution_count": 37,
   "metadata": {
    "collapsed": false
   },
   "outputs": [
    {
     "data": {
      "image/png": "[encoded data removed]",
      "text/plain": [
       "<matplotlib.figure.Figure at 0x125bd79e8>"
      ]
     },
     "metadata": {},
     "output_type": "display_data"
    }
   ],
   "source": [
    "#ratio of tweets by new users vs. old users over time (this tells what % of the discussion is by new users)\n",
    "newuser_ratio = times_df2_10minbins.divide(times_df3_10minbins) \n",
    "p3 = plt.plot(newuser_ratio)"
   ]
  },
  {
   "cell_type": "code",
   "execution_count": 24,
   "metadata": {
    "collapsed": true
   },
   "outputs": [],
   "source": [
    "def get_filtered_tokens2(text):\n",
    "    tokens = word_tokenize(text)\n",
    "    #stop_words = set(stopwords.words('english'))\n",
    "    filtered_tokens = [w.lower() for w in tokens if not w.lower() and not w.lower() in [':',\"#\", '@', 'https', ';','&', ',']]\n",
    "    #print(nltk.FreqDist(filtered_tokens).most_common(200))\n",
    "   #return filtered_tokens"
   ]
  },
  {
   "cell_type": "code",
   "execution_count": 25,
   "metadata": {
    "collapsed": false
   },
   "outputs": [
    {
     "name": "stdout",
     "output_type": "stream",
     "text": [
      "['@', 'womensmarchlon', 'Sorry', 'I', 'ca', \"n't\", 'be', 'there', 'today', '.', 'With', 'you', 'in', 'spirit', '.', 'https', ':', '//t.co/WagNcU6KiI']\n"
     ]
    }
   ],
   "source": [
    "tokens = word_tokenize(df['text'][1])\n",
    "print(tokens)"
   ]
  },
  {
   "cell_type": "code",
   "execution_count": 26,
   "metadata": {
    "collapsed": false
   },
   "outputs": [
    {
     "name": "stdout",
     "output_type": "stream",
     "text": [
      "Mean number of 1st person singular...\n",
      "0.152473464487\n",
      "Mean number of 1st person plural...\n",
      "0.120712707032\n",
      "Mean number of 2nd person...\n",
      "0.100548446069\n",
      "Std 1st person singular...\n",
      "0.455560935321\n",
      "Std 1st person plural...\n",
      "0.377039126893\n",
      "Std 2nd person...\n",
      "0.364323429005\n"
     ]
    }
   ],
   "source": [
    "#counts then number of I's, you's and we's. Gives info about self-awareness.\n",
    "i_count = np.zeros(len(df['text']))\n",
    "you_count = np.zeros(len(df['text']))\n",
    "we_count = np.zeros(len(df['text']))\n",
    "\n",
    "for i in range(len(df['text'].values)):\n",
    "    tokens = [ s.lower() for s in word_tokenize(df['text'].values[i])]\n",
    "    for j in range(len(tokens)):\n",
    "        if tokens[j]=='i':\n",
    "            i_count[i] +=1\n",
    "        elif tokens[j]=='you':\n",
    "            you_count[i] +=1\n",
    "        elif tokens[j]=='we':\n",
    "            we_count[i] +=1\n",
    "            \n",
    "print('Mean number of 1st person singular...') \n",
    "print(np.mean(i_count))\n",
    "print('Mean number of 1st person plural...') \n",
    "print(np.mean(we_count))\n",
    "print('Mean number of 2nd person...') \n",
    "print(np.mean(you_count))\n",
    "print('Std 1st person singular...')\n",
    "print(np.std(i_count))\n",
    "print('Std 1st person plural...')\n",
    "print(np.std(we_count))\n",
    "print('Std 2nd person...')\n",
    "print(np.std(you_count))"
   ]
  },
  {
   "cell_type": "code",
   "execution_count": null,
   "metadata": {
    "collapsed": false
   },
   "outputs": [],
   "source": []
  },
  {
   "cell_type": "code",
   "execution_count": null,
   "metadata": {
    "collapsed": true
   },
   "outputs": [],
   "source": []
  },
  {
   "cell_type": "code",
   "execution_count": 17,
   "metadata": {
    "collapsed": false
   },
   "outputs": [],
   "source": []
  },
  {
   "cell_type": "code",
   "execution_count": 21,
   "metadata": {
    "collapsed": false
   },
   "outputs": [],
   "source": []
  },
  {
   "cell_type": "code",
   "execution_count": 27,
   "metadata": {
    "collapsed": false
   },
   "outputs": [
    {
     "name": "stdout",
     "output_type": "stream",
     "text": [
      "# not retweeted =\n",
      "36649\n",
      "# retweeted = \n",
      "0\n"
     ]
    }
   ],
   "source": [
    "test1 = df.loc[lambda df: df['retweeted'] == 'false']\n",
    "print('# not retweeted =')\n",
    "print(len(test1))\n",
    "test2 = df.loc[lambda df: df['retweeted'] == 'true']\n",
    "print('# retweeted = ') \n",
    "print(len(test2))"
   ]
  },
  {
   "cell_type": "code",
   "execution_count": null,
   "metadata": {
    "collapsed": false
   },
   "outputs": [],
   "source": []
  },
  {
   "cell_type": "code",
   "execution_count": 269,
   "metadata": {
    "collapsed": false
   },
   "outputs": [],
   "source": [
    "nltk.FreqDist(df['']).most_common(20)"
   ]
  },
  {
   "cell_type": "code",
   "execution_count": 14,
   "metadata": {
    "collapsed": false,
    "scrolled": false
   },
   "outputs": [],
   "source": [
    "def get_filtered_tokens(text):\n",
    "    tokens = word_tokenize(text)\n",
    "    stop_words = set(stopwords.words('english'))\n",
    "    filtered_tokens = [w.lower() for w in tokens if not w.lower() in stop_words and not w.lower() in [':',\"#\", '@', 'https', ';','&', ',']]\n",
    "    print(nltk.FreqDist(filtered_tokens).most_common(200))\n",
    "   #return filtered_tokens"
   ]
  },
  {
   "cell_type": "code",
   "execution_count": 271,
   "metadata": {
    "collapsed": false
   },
   "outputs": [],
   "source": [
    "appended_text = ''\n",
    "for t in df['text']:\n",
    "    appended_text += t"
   ]
  },
  {
   "cell_type": "code",
   "execution_count": 272,
   "metadata": {
    "collapsed": false
   },
   "outputs": [
    {
     "name": "stdout",
     "output_type": "stream",
     "text": [
      "[('womensmarch', 21586), ('.', 19540), ('rt', 9745), ('!', 8958), ('women', 8407), ('march', 7875), (\"'s\", 7802), ('today', 3827), ('marching', 3233), ('``', 2726), (\"''\", 2654), ('trump', 2583), ('?', 2261), ('people', 1980), (\"n't\", 1975), ('washington', 1915), ('amp', 1689), ('-', 1672), ('rights', 1638), (\"'re\", 1536), ('de', 1490), ('dc', 1378), (\"'m\", 1285), ('...', 1273), ('love', 1241), ('womensmarchrt', 1199), ('womensmarchonwashington', 1178), ('world', 1167), ('la', 1155), ('inauguration', 1038), ('protest', 1035), ('proud', 1035), ('womensmarchlondon', 1022), ('live', 981), ('us', 971), ('like', 960), ('cnn', 934), ('america', 915), ('go', 894), ('hillaryclinton', 876), ('que', 840), ('crowd', 833), ('marches', 829), (')', 822), ('believe', 822), ('(', 819), ('woman', 797), ('en', 788), ('around', 766), ('right', 742), ('whyimarch', 741), ('london', 740), ('standing', 727), ('day', 714), ('solidarity', 677), ('everyone', 675), ('thanks', 675), ('important', 665), ('sign', 649), ('ever', 630), ('thousands', 628), ('one', 616), ('watch', 615), ('men', 602), ('marcha', 599), ('chicago', 588), ('full', 574), ('truly', 570), ('n', 567), ('let', 563), ('beautiful', 561), ('speaking', 550), ('always', 548), ('could', 545), ('many', 544), ('d.c.', 536), ('support', 530), ('great', 527), ('get', 512), ('human', 511), ('see', 511), ('equality', 509), ('history', 496), ('metro', 496), ('2', 481), ('looks', 480), ('values', 480), ('even', 478), ('president', 477), ('stand', 477), (\"'\", 476), ('must', 463), ('way', 463), ('ready', 446), ('ca', 443), ('across', 442), ('make', 441), ('good', 435), ('train', 431), ('signs', 425), ('na', 409), ('donald', 401), ('every', 401), ('going', 400), ('power', 399), ('justice', 397), ('//t', 394), ('via', 393), ('know', 389), ('together', 387), ('downtown', 380), ('headed', 373), ('democracy', 370), ('boston', 368), ('crowds', 366), ('come', 358), ('safe', 357), ('thank', 355), ('time', 355), ('streets', 354), ('contra', 352), ('nick_offerman', 351), ('nasty', 350), ('taking', 349), ('inaugural', 345), ('makes', 343), ('official', 341), ('join', 340), ('stay', 335), ('e', 329), ('forward', 329), ('hate', 327), ('mujeres', 325), ('st.', 323), ('paris', 322), ('sisters', 322), ('says', 321), ('se', 321), ('el', 318), ('new', 317), ('girl', 317), ('would', 317), ('rally', 315), ('national', 314), ('//', 313), ('eu', 313), ('best', 312), ('reproductive', 312), ('womensm', 312), ('yesterday', 310), ('much', 309), ('feel', 309), ('far', 309), ('country', 308), ('womens', 305), ('antarctica', 303), ('mall', 301), ('ensure', 300), ('want', 297), ('congratulations', 297), ('marchers', 294), ('sensanders', 293), ('louis', 292), (\"'ve\", 290), ('sundance', 281), ('feminist', 279), ('mulheres', 279), ('global', 278), ('show', 277), ('zendaya', 277), ('biggest', 276), ('las', 275), ('/', 274), ('girls', 274), ('indeed', 274), ('piece', 273), ('getting', 272), (\"'hope\", 268), ('womansmarch', 267), ('strong', 266), ('louisa', 264), ('city', 263), (\"fear'\", 263), ('cannell', 263), ('protesters', 262), ('packed', 259), ('sorry', 258), ('antoniofrench', 258), ('fight', 257), ('hey', 257), ('movement', 253), ('facebook', 251), ('place', 249), ('still', 246), ('amazing', 246), ('ladies', 244), ('never', 244), ('square', 241), ('por', 241), ('sending', 239)]\n"
     ]
    }
   ],
   "source": [
    "get_filtered_tokens(appended_text)"
   ]
  },
  {
   "cell_type": "code",
   "execution_count": null,
   "metadata": {
    "collapsed": true
   },
   "outputs": [],
   "source": []
  }
 ],
 "metadata": {
  "anaconda-cloud": {},
  "kernelspec": {
   "display_name": "Python 3",
   "language": "python",
   "name": "python3"
  },
  "language_info": {
   "codemirror_mode": {
    "name": "ipython",
    "version": 3
   },
   "file_extension": ".py",
   "mimetype": "text/x-python",
   "name": "python",
   "nbconvert_exporter": "python",
   "pygments_lexer": "ipython3",
   "version": "3.6.0"
  }
 },
 "nbformat": 4,
 "nbformat_minor": 0
}
