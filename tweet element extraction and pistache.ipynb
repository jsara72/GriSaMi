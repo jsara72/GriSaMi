{
 "cells": [
  {
   "cell_type": "code",
   "execution_count": 1,
   "metadata": {
    "collapsed": true
   },
   "outputs": [],
   "source": [
    "import json\n",
    "import pandas as pd\n",
    "from pandas.io.json import json_normalize\n",
    "# author: jsara72\n",
    "from nltk import word_tokenize, pos_tag\n",
    "from nltk.corpus import stopwords\n",
    "import random\n",
    "import nltk\n",
    "from nltk.corpus import movie_reviews\n",
    "import pandas as pd\n",
    "import re\n",
    "from nltk.classify.scikitlearn import SklearnClassifier\n",
    "from sklearn.naive_bayes import MultinomialNB,BernoulliNB\n",
    "from sklearn.linear_model import LogisticRegression,SGDClassifier\n",
    "from sklearn.svm import SVC, LinearSVC, NuSVC"
   ]
  },
  {
   "cell_type": "code",
   "execution_count": 19,
   "metadata": {
    "collapsed": false
   },
   "outputs": [],
   "source": [
    "def griffin():\n",
    "    \n",
    "    order = ['id','time','text','language','retweeted','retweet counts','']\n",
    "    \n",
    "    idt = re.compile(\"id:.*created_at:\")\n",
    "    idt_temp = list(map(lambda x: re.sub(r'[^\\x00-\\x7F]+',' ', x[3:-13]), idt.findall(f.read())))\n",
    "    \n",
    "    f.seek(0)\n",
    "    time = re.compile(\"created_at:.*text:\")\n",
    "    time_temp = list(map(lambda x: re.sub(r'[^\\x00-\\x7F]+',' ', x[11:-7]), time.findall(f.read())))\n",
    "    \n",
    "    f.seek(0)\n",
    "\n",
    "    text = re.compile(\"text:.*?lang:\",re.DOTALL)\n",
    "    text_temp = list(map(lambda x: re.sub(r'[^\\x00-\\x7F]+',' ', x[5:-7]), text.findall(f.read())))\n",
    "    \n",
    "    \n",
    "    f.seek(0)\n",
    "    length = re.compile(\"lang:.*source:\")\n",
    "    length_temp = list(map(lambda x: re.sub(r'[^\\x00-\\x7F]+',' ', x[5:-9]), length.findall(f.read())))\n",
    "    \n",
    "    f.seek(0)\n",
    "    retweeted = re.compile(\"retweeted:.*retweet_count:\")\n",
    "    retweeted_temp = list(map(lambda x: re.sub(r'[^\\x00-\\x7F]+',' ', x[10:-16]), retweeted.findall(f.read())))\n",
    "    \n",
    "    f.seek(0)\n",
    "    retweet_counts = re.compile(\"retweet_counts:.*\")\n",
    "    retweet_counts_temp = list(map(lambda x: re.sub(r'[^\\x00-\\x7F]+',' ', x[14:-1]), retweet_counts.findall(f.read())))\n",
    "    \n",
    "    #print(len(idt_temp),len(time_temp),len(text_temp),len(length_temp),len(retweeted_temp),len(retweet_counts_temp))\n",
    "    \n",
    "    df = pd.DataFrame({order[0]: idt_temp,\n",
    "                        order[1]: time_temp,\n",
    "                        order[2]: text_temp,\n",
    "                        order[3]: length_temp,\n",
    "                       order[4]: retweeted_temp})\n",
    "    #                  order[5]: retweet_counts_temp})\n",
    "    return df"
   ]
  },
  {
   "cell_type": "code",
   "execution_count": 20,
   "metadata": {
    "collapsed": false
   },
   "outputs": [],
   "source": [
    "f = open(\"part-00000\") # 36726-7 tweets in this file"
   ]
  },
  {
   "cell_type": "code",
   "execution_count": 21,
   "metadata": {
    "collapsed": false
   },
   "outputs": [],
   "source": [
    "df = griffin()"
   ]
  },
  {
   "cell_type": "code",
   "execution_count": 26,
   "metadata": {
    "collapsed": false
   },
   "outputs": [
    {
     "data": {
      "text/plain": [
       "array(['en', 'en', 'en', ..., 'en', 'en', 'en'], dtype=object)"
      ]
     },
     "execution_count": 26,
     "metadata": {},
     "output_type": "execute_result"
    }
   ],
   "source": [
    "df['language'].values"
   ]
  },
  {
   "cell_type": "code",
   "execution_count": null,
   "metadata": {
    "collapsed": true
   },
   "outputs": [],
   "source": []
  }
 ],
 "metadata": {
  "anaconda-cloud": {},
  "kernelspec": {
   "display_name": "Python 3",
   "language": "python",
   "name": "python3"
  },
  "language_info": {
   "codemirror_mode": {
    "name": "ipython",
    "version": 3
   },
   "file_extension": ".py",
   "mimetype": "text/x-python",
   "name": "python",
   "nbconvert_exporter": "python",
   "pygments_lexer": "ipython3",
   "version": "3.6.0"
  }
 },
 "nbformat": 4,
 "nbformat_minor": 0
}
